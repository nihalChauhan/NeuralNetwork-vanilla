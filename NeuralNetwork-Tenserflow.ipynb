{
 "cells": [
  {
   "cell_type": "code",
   "execution_count": 0,
   "metadata": {
    "colab": {},
    "colab_type": "code",
    "id": "32UZthLxBWDo"
   },
   "outputs": [],
   "source": [
    "import tensorflow as tf\n",
    "import numpy as np"
   ]
  },
  {
   "cell_type": "code",
   "execution_count": 0,
   "metadata": {
    "colab": {},
    "colab_type": "code",
    "id": "sVgn9nqTKDjN"
   },
   "outputs": [],
   "source": [
    "def sigmoid_derivative(x):\n",
    "    return x * tf.math.subtract(tf.ones(x.shape), x)"
   ]
  },
  {
   "cell_type": "code",
   "execution_count": 0,
   "metadata": {
    "colab": {},
    "colab_type": "code",
    "id": "Kv0iD7lUBbKB"
   },
   "outputs": [],
   "source": [
    "class NeuralNetwork:\n",
    "    def __init__(self, x, y):\n",
    "        self.input = tf.get_variable('input', shape = x.shape, initializer = tf.constant_initializer(x))\n",
    "        self.output = tf.Variable(tf.zeros([len(y),], tf.int32))\n",
    "        self.y = tf.get_variable('y', shape = [len(y),], initializer = tf.constant_initializer(y))\n",
    "        self.y = tf.reshape(self.y, [len(y),1])\n",
    "        self.weights1 = tf.random.normal(shape=[self.input.shape[1].value, 5])\n",
    "        self.weights2 = tf.random.normal(shape=[5,1])\n",
    "        self.bias1 = tf.random.normal(shape=[1,5])\n",
    "        self.bias2 = tf.random.normal(shape=[1,1])\n",
    "        self.data = tf.placeholder(tf.float32)\n",
    "    \n",
    "    def feedForward(self):\n",
    "        self.layer1 = tf.sigmoid(tf.tensordot(self.input, self.weights1, 1) + self.bias1)\n",
    "        self.output = tf.sigmoid(tf.tensordot(self.layer1, self.weights2, 1) + self.bias2)\n",
    "    \n",
    "    def backpropogation(self):\n",
    "        input_t = tf.transpose(self.input)\n",
    "        error = tf.math.subtract(self.y, self.output)\n",
    "        weight2_t = tf.transpose(self.weights2)\n",
    "\n",
    "        d_weights_1 = tf.tensordot( input_t,\n",
    "                                   (tf.tensordot(2*(error) * sigmoid_derivative(self.output),\n",
    "                                                 weight2_t,\n",
    "                                                 1) * sigmoid_derivative(self.layer1)),\n",
    "                                    1)\n",
    "        \n",
    "        d_weights_2 = tf.tensordot(tf.transpose(self.layer1), (2*(tf.math.subtract(self.y, self.output)) * sigmoid_derivative(self.output)), 1)\n",
    "        \n",
    "        d_bias_1 = tf.math.reduce_mean((tf.tensordot(2*(error) * sigmoid_derivative(self.output),\n",
    "                                                 weight2_t,\n",
    "                                                 1) * sigmoid_derivative(self.layer1)),\n",
    "                                        0)\n",
    "        d_bias_2 = tf.math.reduce_mean(2*(tf.math.subtract(self.y, self.output)) * sigmoid_derivative(self.output), 0)\n",
    "        \n",
    "        self.weights1 += d_weights_1\n",
    "        self.weights2 += d_weights_2\n",
    "        self.bias1 += d_bias_1\n",
    "        self.bias2 += d_bias_2\n",
    "    \n",
    "    def trainModel(self, epoch):\n",
    "        for _ in range(1, epoch):\n",
    "            self.feedForward()\n",
    "            self.backpropogation()\n",
    "            \n",
    "    def predict(self, data):\n",
    "        return sess.run(self.predictResult(), feed_dict={\n",
    "            self.data:data\n",
    "        })\n",
    "        \n",
    "    def predictResult(self):\n",
    "        layer1 = tf.sigmoid(tf.tensordot(self.data, self.weights1, 1) + self.bias1)\n",
    "        result = tf.sigmoid(tf.tensordot(layer1, self.weights2, 1) + self.bias2)\n",
    "        return result"
   ]
  },
  {
   "cell_type": "code",
   "execution_count": 0,
   "metadata": {
    "colab": {},
    "colab_type": "code",
    "id": "MRhdjSIBBeUz"
   },
   "outputs": [],
   "source": [
    "train_data = np.matrix([[0, 0, 0],\n",
    "                        [0, 0, 1],\n",
    "                        [0, 1, 0],\n",
    "                        [0, 1, 1],\n",
    "                        [1, 0, 0],\n",
    "                        [1, 0, 1],\n",
    "                        [1, 1, 0],\n",
    "                        [1, 1, 1]])\n",
    "train_target = np.array([0, 1, 1, 0, 1, 0, 0, 1])"
   ]
  },
  {
   "cell_type": "code",
   "execution_count": 0,
   "metadata": {
    "colab": {},
    "colab_type": "code",
    "id": "-w5o4iZ4Bgm8"
   },
   "outputs": [],
   "source": [
    "tf.reset_default_graph()"
   ]
  },
  {
   "cell_type": "code",
   "execution_count": 0,
   "metadata": {
    "colab": {},
    "colab_type": "code",
    "id": "Xc9s1z0XBi5T"
   },
   "outputs": [],
   "source": [
    "model = NeuralNetwork(train_data, train_target)"
   ]
  },
  {
   "cell_type": "code",
   "execution_count": 0,
   "metadata": {
    "colab": {},
    "colab_type": "code",
    "id": "2DrqnxTsBkyM"
   },
   "outputs": [],
   "source": [
    "sess = tf.Session()\n",
    "sess.run(tf.global_variables_initializer())"
   ]
  },
  {
   "cell_type": "code",
   "execution_count": 0,
   "metadata": {
    "colab": {},
    "colab_type": "code",
    "id": "uaqwpvXkvoDt"
   },
   "outputs": [],
   "source": [
    "model.trainModel(1500)\n",
    "result = sess.run(model.output)"
   ]
  },
  {
   "cell_type": "code",
   "execution_count": 151,
   "metadata": {
    "colab": {
     "base_uri": "https://localhost:8080/",
     "height": 156
    },
    "colab_type": "code",
    "id": "LTYKVXd0c6mv",
    "outputId": "72f2bc98-d290-4399-993f-0913f36627da"
   },
   "outputs": [
    {
     "name": "stdout",
     "output_type": "stream",
     "text": [
      "[[0.02017964]\n",
      " [0.97695196]\n",
      " [0.9790156 ]\n",
      " [0.01714825]\n",
      " [0.97482   ]\n",
      " [0.01702505]\n",
      " [0.01855114]\n",
      " [0.9917897 ]]\n"
     ]
    }
   ],
   "source": [
    "print(result)"
   ]
  },
  {
   "cell_type": "code",
   "execution_count": 152,
   "metadata": {
    "colab": {
     "base_uri": "https://localhost:8080/",
     "height": 69
    },
    "colab_type": "code",
    "id": "JdeNVr9XC0Eu",
    "outputId": "58e453f5-75b0-4835-dfb8-61481e463731"
   },
   "outputs": [
    {
     "name": "stdout",
     "output_type": "stream",
     "text": [
      "[[0.98801327]\n",
      " [0.9686924 ]\n",
      " [0.02868488]]\n"
     ]
    }
   ],
   "source": [
    "test_data = np.matrix([[0, 1, 0],\n",
    "                       [1, 0, 0],\n",
    "                       [1, 1, 0]])\n",
    "test_result = model.predict(test_data)\n",
    "print(test_result)"
   ]
  }
 ],
 "metadata": {
  "accelerator": "TPU",
  "colab": {
   "collapsed_sections": [],
   "name": "NeuralNetwork.ipynb",
   "provenance": [],
   "version": "0.3.2"
  },
  "kernelspec": {
   "display_name": "Python 3",
   "language": "python",
   "name": "python3"
  },
  "language_info": {
   "codemirror_mode": {
    "name": "ipython",
    "version": 3
   },
   "file_extension": ".py",
   "mimetype": "text/x-python",
   "name": "python",
   "nbconvert_exporter": "python",
   "pygments_lexer": "ipython3",
   "version": "3.6.7"
  }
 },
 "nbformat": 4,
 "nbformat_minor": 1
}
