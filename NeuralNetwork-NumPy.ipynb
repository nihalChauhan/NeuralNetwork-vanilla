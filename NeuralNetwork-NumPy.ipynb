{
 "cells": [
  {
   "cell_type": "code",
   "execution_count": 201,
   "metadata": {},
   "outputs": [],
   "source": [
    "import numpy as np"
   ]
  },
  {
   "cell_type": "code",
   "execution_count": 202,
   "metadata": {},
   "outputs": [],
   "source": [
    "def sigmoid_derivative(x):\n",
    "    return np.multiply(x, 1 - x)"
   ]
  },
  {
   "cell_type": "code",
   "execution_count": 203,
   "metadata": {},
   "outputs": [],
   "source": [
    "def sigmoid(x):\n",
    "    return 1 / (1 + np.exp(-x))"
   ]
  },
  {
   "cell_type": "code",
   "execution_count": 204,
   "metadata": {},
   "outputs": [],
   "source": [
    "class NeuralNetwork:\n",
    "    def __init__(self, x, y):\n",
    "        self.input      = x\n",
    "        self.y          = y\n",
    "        self.weights1   = np.random.rand(self.input.shape[1],5) \n",
    "        self.weights2   = np.random.rand(5,1)                 \n",
    "        self.bias1      = np.random.rand(1,5)\n",
    "        self.bias2      = np.random.rand(1,1)\n",
    "        self.output     = np.zeros(y.shape)        \n",
    "\n",
    "    \n",
    "    def feedForward(self):\n",
    "        self.layer1 = sigmoid(np.dot(self.input, self.weights1) + self.bias1)\n",
    "        self.output = sigmoid(np.dot(self.layer1, self.weights2) + self.bias2)\n",
    "    \n",
    "    def backpropogation(self):        \n",
    "        d_weights_1 = np.dot(\n",
    "                        self.input.T,\n",
    "                        (np.dot(\n",
    "                            2*(self.y - self.output) * sigmoid_derivative(self.output),\n",
    "                            self.weights2.T\n",
    "                        ) * sigmoid_derivative(self.layer1))\n",
    "                        )\n",
    "        \n",
    "        d_weights_2 = np.dot(\n",
    "                        self.layer1.T,\n",
    "                        (2 * (self.y - self.output) * sigmoid_derivative(self.output))\n",
    "                        )\n",
    "        \n",
    "        d_bias_1 = np.mean(\n",
    "                        np.dot(\n",
    "                            2 * (self.y - self.output) * sigmoid_derivative(self.output), \n",
    "                            self.weights2.T\n",
    "                        ) * sigmoid_derivative(self.layer1),\n",
    "                        0\n",
    "                    )\n",
    "        \n",
    "        d_bias_2 = np.mean(\n",
    "                        2*(self.y - self.output) * sigmoid_derivative(self.output),\n",
    "                        0\n",
    "                    )\n",
    "        \n",
    "        self.weights1 += d_weights_1\n",
    "        self.weights2 += d_weights_2\n",
    "        self.bias1 += d_bias_1\n",
    "        self.bias2 += d_bias_2\n",
    "    \n",
    "    def train(self, epoch):\n",
    "        for _ in range(1, epoch):\n",
    "            self.feedForward()\n",
    "            self.backpropogation()\n",
    "            \n",
    "    def predict(self, data):\n",
    "        layer1 = sigmoid(np.dot(data, self.weights1) + self.bias1)\n",
    "        result = sigmoid(np.dot(layer1, self.weights2) + self.bias2)\n",
    "        return result"
   ]
  },
  {
   "cell_type": "code",
   "execution_count": 205,
   "metadata": {},
   "outputs": [],
   "source": [
    "train_data = np.array([ [0, 0, 0],\n",
    "                        [0, 0, 1],\n",
    "                        [0, 1, 0],\n",
    "                        [0, 1, 1],\n",
    "                        [1, 0, 0],\n",
    "                        [1, 0, 1],\n",
    "                        [1, 1, 0],\n",
    "                        [1, 1, 1] ])\n",
    "train_target = np.array([[0], [1], [1], [0], [1], [0], [0], [1]])"
   ]
  },
  {
   "cell_type": "code",
   "execution_count": 206,
   "metadata": {},
   "outputs": [],
   "source": [
    "model = NeuralNetwork(train_data, train_target)"
   ]
  },
  {
   "cell_type": "code",
   "execution_count": 207,
   "metadata": {},
   "outputs": [],
   "source": [
    "model.train(1500)"
   ]
  },
  {
   "cell_type": "code",
   "execution_count": 208,
   "metadata": {},
   "outputs": [
    {
     "name": "stdout",
     "output_type": "stream",
     "text": [
      "[[0.97751849]\n",
      " [0.97751106]\n",
      " [0.02162789]]\n"
     ]
    }
   ],
   "source": [
    "test_data = np.matrix([[0, 1, 0],\n",
    "                       [1, 0, 0],\n",
    "                       [1, 1, 0]])\n",
    "test_result = model.predict(test_data)\n",
    "print(test_result)"
   ]
  }
 ],
 "metadata": {
  "kernelspec": {
   "display_name": "Python 3",
   "language": "python",
   "name": "python3"
  },
  "language_info": {
   "codemirror_mode": {
    "name": "ipython",
    "version": 3
   },
   "file_extension": ".py",
   "mimetype": "text/x-python",
   "name": "python",
   "nbconvert_exporter": "python",
   "pygments_lexer": "ipython3",
   "version": "3.6.7"
  }
 },
 "nbformat": 4,
 "nbformat_minor": 2
}
